{
 "cells": [
  {
   "cell_type": "markdown",
   "id": "cf61bd31-c5a2-4b19-bbdd-128390fd96a9",
   "metadata": {
    "id": "cf61bd31-c5a2-4b19-bbdd-128390fd96a9"
   },
   "source": [
    "### Name - Mithil Dabhi\n",
    "### LinkedIN - www.linkedin.com/mithildabhi\n",
    "\n",
    "### Prodigy InfoTech Internship: Task 3\n",
    "#### Build a decision tree classifier to predict whether a customer will purchase a product or service based on their demographic and behavioral data. Use a dataset such as the Bank Marketing dataset deom the UCI Machine Learning Repository.\n",
    "#### Sample Dataset: [Bank-Marketing](https://archive.ics.uci.edu/dataset/222/bank+marketing)\n",
    "####"
   ]
  },
  {
   "cell_type": "code",
   "execution_count": null,
   "id": "4AYOyAlX5OMh",
   "metadata": {
    "colab": {
     "base_uri": "https://localhost:8080/"
    },
    "executionInfo": {
     "elapsed": 22652,
     "status": "ok",
     "timestamp": 1747026557839,
     "user": {
      "displayName": "Mithil Dabhi",
      "userId": "08616639297797004413"
     },
     "user_tz": -330
    },
    "id": "4AYOyAlX5OMh",
    "outputId": "c8cc3a74-4d52-4466-8325-9a58867bba18"
   },
   "outputs": [
    {
     "ename": "",
     "evalue": "",
     "output_type": "error",
     "traceback": [
      "\u001b[1;31mRunning cells with 'Python 3.12.2' requires the ipykernel package.\n",
      "\u001b[1;31m<a href='command:jupyter.createPythonEnvAndSelectController'>Create a Python Environment</a> with the required packages.\n",
      "\u001b[1;31mOr install 'ipykernel' using the command: 'c:/Users/ASUS/AppData/Local/Programs/Python/Python312/python.exe -m pip install ipykernel -U --user --force-reinstall'"
     ]
    }
   ],
   "source": [
    "from google.colab import drive\n",
    "drive.mount('/content/drive')"
   ]
  },
  {
   "cell_type": "code",
   "execution_count": null,
   "id": "696ca209-a160-4389-98b2-f3017505ceed",
   "metadata": {
    "executionInfo": {
     "elapsed": 1679,
     "status": "ok",
     "timestamp": 1747026617438,
     "user": {
      "displayName": "Mithil Dabhi",
      "userId": "08616639297797004413"
     },
     "user_tz": -330
    },
    "id": "696ca209-a160-4389-98b2-f3017505ceed"
   },
   "outputs": [],
   "source": [
    "import pandas as pd\n",
    "import numpy as np\n",
    "import matplotlib.pyplot as plt\n",
    "import seaborn as sns\n",
    "import warnings\n",
    "warnings.filterwarnings('ignore')\n",
    "%matplotlib inline"
   ]
  },
  {
   "cell_type": "code",
   "execution_count": null,
   "id": "d57ababd-65e6-4233-bd4d-f5fc6a3fbec0",
   "metadata": {
    "colab": {
     "base_uri": "https://localhost:8080/",
     "height": 273
    },
    "executionInfo": {
     "elapsed": 768,
     "status": "ok",
     "timestamp": 1747026619608,
     "user": {
      "displayName": "Mithil Dabhi",
      "userId": "08616639297797004413"
     },
     "user_tz": -330
    },
    "id": "d57ababd-65e6-4233-bd4d-f5fc6a3fbec0",
    "outputId": "85bd2fb0-ca62-42ae-a960-44fd013cc330"
   },
   "outputs": [],
   "source": [
    "df = pd.read_csv(\"/content/drive/MyDrive/PRODIGY_INFOTECH/PRODIGY_DS_03/bank-additional.csv\",delimiter=';')\n",
    "df.rename(columns={'y':'deposit'}, inplace=True)\n",
    "df.head()"
   ]
  },
  {
   "cell_type": "code",
   "execution_count": null,
   "id": "f809a0c0-7948-4c03-8437-594abd52fb93",
   "metadata": {
    "colab": {
     "base_uri": "https://localhost:8080/"
    },
    "executionInfo": {
     "elapsed": 23,
     "status": "ok",
     "timestamp": 1747026622110,
     "user": {
      "displayName": "Mithil Dabhi",
      "userId": "08616639297797004413"
     },
     "user_tz": -330
    },
    "id": "f809a0c0-7948-4c03-8437-594abd52fb93",
    "outputId": "79ce875f-7a7d-445e-e089-93fcc65a261d"
   },
   "outputs": [],
   "source": [
    "df.info()"
   ]
  },
  {
   "cell_type": "code",
   "execution_count": null,
   "id": "4d1f6c7a-99dc-4a89-b6d1-6efe71987458",
   "metadata": {
    "colab": {
     "base_uri": "https://localhost:8080/",
     "height": 255
    },
    "executionInfo": {
     "elapsed": 5,
     "status": "ok",
     "timestamp": 1747026624261,
     "user": {
      "displayName": "Mithil Dabhi",
      "userId": "08616639297797004413"
     },
     "user_tz": -330
    },
    "id": "4d1f6c7a-99dc-4a89-b6d1-6efe71987458",
    "outputId": "f9271723-50f2-4687-eca4-cf12d2cb4389"
   },
   "outputs": [],
   "source": [
    "df.tail()"
   ]
  },
  {
   "cell_type": "code",
   "execution_count": null,
   "id": "78dd87f4-d1c8-4d8c-84c7-0fade76030c5",
   "metadata": {
    "colab": {
     "base_uri": "https://localhost:8080/"
    },
    "executionInfo": {
     "elapsed": 10,
     "status": "ok",
     "timestamp": 1747026627777,
     "user": {
      "displayName": "Mithil Dabhi",
      "userId": "08616639297797004413"
     },
     "user_tz": -330
    },
    "id": "78dd87f4-d1c8-4d8c-84c7-0fade76030c5",
    "outputId": "70a09170-b454-4ce8-9aca-7b7f068a84ad"
   },
   "outputs": [],
   "source": [
    "df.shape"
   ]
  },
  {
   "cell_type": "code",
   "execution_count": null,
   "id": "a9e71318-1203-4b9c-b5d2-d148ce1cfef3",
   "metadata": {
    "colab": {
     "base_uri": "https://localhost:8080/"
    },
    "executionInfo": {
     "elapsed": 20,
     "status": "ok",
     "timestamp": 1747026629144,
     "user": {
      "displayName": "Mithil Dabhi",
      "userId": "08616639297797004413"
     },
     "user_tz": -330
    },
    "id": "a9e71318-1203-4b9c-b5d2-d148ce1cfef3",
    "outputId": "f4df8039-b7e0-4c1a-b157-84958dededee"
   },
   "outputs": [],
   "source": [
    "df.columns"
   ]
  },
  {
   "cell_type": "code",
   "execution_count": null,
   "id": "bd0dde95-a7f3-4ffc-9243-035844391977",
   "metadata": {
    "colab": {
     "base_uri": "https://localhost:8080/",
     "height": 742
    },
    "executionInfo": {
     "elapsed": 45,
     "status": "ok",
     "timestamp": 1747026630454,
     "user": {
      "displayName": "Mithil Dabhi",
      "userId": "08616639297797004413"
     },
     "user_tz": -330
    },
    "id": "bd0dde95-a7f3-4ffc-9243-035844391977",
    "outputId": "ea788236-be63-432e-e77f-4c87db4adc93"
   },
   "outputs": [],
   "source": [
    "df.dtypes"
   ]
  },
  {
   "cell_type": "code",
   "execution_count": null,
   "id": "460f7a1f-1304-44b6-b8ec-be9eba91be31",
   "metadata": {
    "colab": {
     "base_uri": "https://localhost:8080/",
     "height": 178
    },
    "executionInfo": {
     "elapsed": 5,
     "status": "ok",
     "timestamp": 1747026632978,
     "user": {
      "displayName": "Mithil Dabhi",
      "userId": "08616639297797004413"
     },
     "user_tz": -330
    },
    "id": "460f7a1f-1304-44b6-b8ec-be9eba91be31",
    "outputId": "4b63ca2c-4837-4d2e-c670-8b44fae38997"
   },
   "outputs": [],
   "source": [
    "df.dtypes.value_counts()"
   ]
  },
  {
   "cell_type": "code",
   "execution_count": null,
   "id": "516a183d-3df4-4f40-9d8e-b91b6a45191f",
   "metadata": {
    "colab": {
     "base_uri": "https://localhost:8080/"
    },
    "executionInfo": {
     "elapsed": 21,
     "status": "ok",
     "timestamp": 1747026633317,
     "user": {
      "displayName": "Mithil Dabhi",
      "userId": "08616639297797004413"
     },
     "user_tz": -330
    },
    "id": "516a183d-3df4-4f40-9d8e-b91b6a45191f",
    "outputId": "94795b52-f800-4114-fb5c-aa1b6fc53b16"
   },
   "outputs": [],
   "source": [
    "df.duplicated().sum()"
   ]
  },
  {
   "cell_type": "code",
   "execution_count": null,
   "id": "665be178-534e-41c6-abcf-3a9dd7411c74",
   "metadata": {
    "colab": {
     "base_uri": "https://localhost:8080/",
     "height": 742
    },
    "executionInfo": {
     "elapsed": 19,
     "status": "ok",
     "timestamp": 1747026634401,
     "user": {
      "displayName": "Mithil Dabhi",
      "userId": "08616639297797004413"
     },
     "user_tz": -330
    },
    "id": "665be178-534e-41c6-abcf-3a9dd7411c74",
    "outputId": "d989a8e0-cf94-4758-b523-dbfa8efe79e6"
   },
   "outputs": [],
   "source": [
    "df.isna().sum()"
   ]
  },
  {
   "cell_type": "code",
   "execution_count": null,
   "id": "7d2c251f-56c0-45ca-a48d-fca3c38633e8",
   "metadata": {
    "colab": {
     "base_uri": "https://localhost:8080/"
    },
    "executionInfo": {
     "elapsed": 15,
     "status": "ok",
     "timestamp": 1747026636925,
     "user": {
      "displayName": "Mithil Dabhi",
      "userId": "08616639297797004413"
     },
     "user_tz": -330
    },
    "id": "7d2c251f-56c0-45ca-a48d-fca3c38633e8",
    "outputId": "bdb4aa93-f538-43e1-cb4a-73bacb35862e"
   },
   "outputs": [],
   "source": [
    "cat_cols = df.select_dtypes(include='object').columns\n",
    "print(cat_cols)\n",
    "\n",
    "num_cols = df.select_dtypes(exclude='object').columns\n",
    "print(num_cols)"
   ]
  },
  {
   "cell_type": "code",
   "execution_count": null,
   "id": "cd51637f-d06d-41c0-95a2-6d1f963dad68",
   "metadata": {
    "colab": {
     "base_uri": "https://localhost:8080/",
     "height": 300
    },
    "executionInfo": {
     "elapsed": 132,
     "status": "ok",
     "timestamp": 1747026637638,
     "user": {
      "displayName": "Mithil Dabhi",
      "userId": "08616639297797004413"
     },
     "user_tz": -330
    },
    "id": "cd51637f-d06d-41c0-95a2-6d1f963dad68",
    "outputId": "5c2786c3-0659-4c10-cfab-bd0413687c53"
   },
   "outputs": [],
   "source": [
    "df.describe()"
   ]
  },
  {
   "cell_type": "code",
   "execution_count": null,
   "id": "75a7be71-8aec-4d6b-9234-1cc4563a544e",
   "metadata": {
    "colab": {
     "base_uri": "https://localhost:8080/",
     "height": 175
    },
    "executionInfo": {
     "elapsed": 10,
     "status": "ok",
     "timestamp": 1747026638798,
     "user": {
      "displayName": "Mithil Dabhi",
      "userId": "08616639297797004413"
     },
     "user_tz": -330
    },
    "id": "75a7be71-8aec-4d6b-9234-1cc4563a544e",
    "outputId": "980850f4-6af2-46f0-9811-c27e5d0af58a"
   },
   "outputs": [],
   "source": [
    "df.describe(include='object')"
   ]
  },
  {
   "cell_type": "code",
   "execution_count": null,
   "id": "9fd68fb9-19cf-440a-812d-ddef69204ec7",
   "metadata": {
    "colab": {
     "base_uri": "https://localhost:8080/",
     "height": 853
    },
    "executionInfo": {
     "elapsed": 1664,
     "status": "ok",
     "timestamp": 1747026641600,
     "user": {
      "displayName": "Mithil Dabhi",
      "userId": "08616639297797004413"
     },
     "user_tz": -330
    },
    "id": "9fd68fb9-19cf-440a-812d-ddef69204ec7",
    "outputId": "a76b07f1-04e3-46dd-d0a7-eb64b4826e1f"
   },
   "outputs": [],
   "source": [
    "df.hist(figsize=(10,10),color='#00FFFF')\n",
    "plt.show()"
   ]
  },
  {
   "cell_type": "code",
   "execution_count": null,
   "id": "f6e2c235-2505-4753-a975-41307bc6696f",
   "metadata": {
    "colab": {
     "base_uri": "https://localhost:8080/",
     "height": 1000
    },
    "executionInfo": {
     "elapsed": 3208,
     "status": "ok",
     "timestamp": 1747026645618,
     "user": {
      "displayName": "Mithil Dabhi",
      "userId": "08616639297797004413"
     },
     "user_tz": -330
    },
    "id": "f6e2c235-2505-4753-a975-41307bc6696f",
    "outputId": "817aab30-454b-43db-d44c-3b747aa9bbb5"
   },
   "outputs": [],
   "source": [
    "# Calculate the number of rows and columns for subplots\n",
    "num_plots = len(cat_cols)\n",
    "num_rows = (num_plots + 1) // 2  # Add 1 and divide by 2 to round up for odd numbers\n",
    "num_cols = 2\n",
    "\n",
    "# Create a new figure\n",
    "plt.figure(figsize=(20, 25))  # Adjust the figure size as needed\n",
    "\n",
    "# Loop through each feature and create a countplot\n",
    "for i, feature in enumerate(cat_cols, 1):\n",
    "    plt.subplot(num_rows, num_cols, i)\n",
    "    sns.countplot(x=feature, data=df, palette='Wistia')\n",
    "    plt.title(f'Bar Plot of {feature}')\n",
    "    plt.xlabel(feature)\n",
    "    plt.ylabel('Count')\n",
    "    plt.xticks(rotation=45)\n",
    "\n",
    "# Adjust layout to prevent overlap of subplots\n",
    "plt.tight_layout()\n",
    "plt.show()"
   ]
  },
  {
   "cell_type": "code",
   "execution_count": null,
   "id": "22c1135b-ecd2-4154-9683-05161b11f490",
   "metadata": {
    "colab": {
     "base_uri": "https://localhost:8080/",
     "height": 582
    },
    "executionInfo": {
     "elapsed": 1076,
     "status": "ok",
     "timestamp": 1747026647657,
     "user": {
      "displayName": "Mithil Dabhi",
      "userId": "08616639297797004413"
     },
     "user_tz": -330
    },
    "id": "22c1135b-ecd2-4154-9683-05161b11f490",
    "outputId": "40b8b467-d413-4dec-a622-7ecfaed1c013"
   },
   "outputs": [],
   "source": [
    "df.plot(kind='box', subplots=True, layout=(2,5),figsize=(20,10),color='#7b3f00')\n",
    "plt.show()"
   ]
  },
  {
   "cell_type": "code",
   "execution_count": null,
   "id": "441e8132-08d1-462a-bd53-2b1017ad6ab0",
   "metadata": {
    "executionInfo": {
     "elapsed": 12,
     "status": "ok",
     "timestamp": 1747026648597,
     "user": {
      "displayName": "Mithil Dabhi",
      "userId": "08616639297797004413"
     },
     "user_tz": -330
    },
    "id": "441e8132-08d1-462a-bd53-2b1017ad6ab0"
   },
   "outputs": [],
   "source": [
    "column = df[['age','campaign','duration']]\n",
    "q1 = np.percentile(column, 25)\n",
    "q3 = np.percentile(column, 75)\n",
    "iqr = q3 - q1\n",
    "lower_bound = q1 - 1.5 * iqr\n",
    "upper_bound = q3 + 1.5 * iqr\n",
    "df[['age','campaign','duration']] = column[(column > lower_bound) & (column < upper_bound)]"
   ]
  },
  {
   "cell_type": "code",
   "execution_count": null,
   "id": "234d2fc6-4cd2-492a-b9c9-bf61ea9afe58",
   "metadata": {
    "colab": {
     "base_uri": "https://localhost:8080/",
     "height": 582
    },
    "executionInfo": {
     "elapsed": 995,
     "status": "ok",
     "timestamp": 1747026650911,
     "user": {
      "displayName": "Mithil Dabhi",
      "userId": "08616639297797004413"
     },
     "user_tz": -330
    },
    "id": "234d2fc6-4cd2-492a-b9c9-bf61ea9afe58",
    "outputId": "1212fa09-6c20-4a0a-c86d-00dce1342925"
   },
   "outputs": [],
   "source": [
    "df.plot(kind='box', subplots=True, layout=(2,5),figsize=(20,10),color='#808000')\n",
    "plt.show()"
   ]
  },
  {
   "cell_type": "code",
   "execution_count": null,
   "id": "be357f91-3941-4bb4-b714-6112cca34ee3",
   "metadata": {
    "colab": {
     "base_uri": "https://localhost:8080/",
     "height": 1000
    },
    "executionInfo": {
     "elapsed": 285,
     "status": "ok",
     "timestamp": 1747026651950,
     "user": {
      "displayName": "Mithil Dabhi",
      "userId": "08616639297797004413"
     },
     "user_tz": -330
    },
    "id": "be357f91-3941-4bb4-b714-6112cca34ee3",
    "outputId": "e364a1f4-a574-4946-9d73-2f1546b2afb2"
   },
   "outputs": [],
   "source": [
    "# Exclude non-numeric columns\n",
    "numeric_df = df.drop(columns=cat_cols)\n",
    "\n",
    "# Compute the correlation matrix\n",
    "corr = numeric_df.corr()\n",
    "\n",
    "# Print the correlation matrix\n",
    "print(corr)\n",
    "\n",
    "# Filter correlations with absolute value >= 0.90\n",
    "corr = corr[abs(corr) >= 0.90]\n",
    "\n",
    "sns.heatmap(corr,annot=True,cmap='Set3',linewidths=0.2)\n",
    "plt.show()"
   ]
  },
  {
   "cell_type": "code",
   "execution_count": null,
   "id": "34afacce-d840-4dfd-8392-5bf05ea013a4",
   "metadata": {
    "executionInfo": {
     "elapsed": 2,
     "status": "ok",
     "timestamp": 1747026654911,
     "user": {
      "displayName": "Mithil Dabhi",
      "userId": "08616639297797004413"
     },
     "user_tz": -330
    },
    "id": "34afacce-d840-4dfd-8392-5bf05ea013a4"
   },
   "outputs": [],
   "source": [
    "high_corr_cols = ['emp.var.rate','euribor3m','nr.employed']"
   ]
  },
  {
   "cell_type": "code",
   "execution_count": null,
   "id": "04460742-5bab-4b72-95bf-fc382b1eb0a3",
   "metadata": {
    "colab": {
     "base_uri": "https://localhost:8080/"
    },
    "executionInfo": {
     "elapsed": 10,
     "status": "ok",
     "timestamp": 1747026655876,
     "user": {
      "displayName": "Mithil Dabhi",
      "userId": "08616639297797004413"
     },
     "user_tz": -330
    },
    "id": "04460742-5bab-4b72-95bf-fc382b1eb0a3",
    "outputId": "b5f4b65a-355a-4d38-9c73-af3c7216e2a5"
   },
   "outputs": [],
   "source": [
    "df1 = df.copy()\n",
    "df1.columns"
   ]
  },
  {
   "cell_type": "code",
   "execution_count": null,
   "id": "1fbbe525-daec-47f0-839d-0deceac765cb",
   "metadata": {
    "colab": {
     "base_uri": "https://localhost:8080/"
    },
    "executionInfo": {
     "elapsed": 5,
     "status": "ok",
     "timestamp": 1747026656959,
     "user": {
      "displayName": "Mithil Dabhi",
      "userId": "08616639297797004413"
     },
     "user_tz": -330
    },
    "id": "1fbbe525-daec-47f0-839d-0deceac765cb",
    "outputId": "6497c773-4617-4d77-e2f8-6c4c4073e83f"
   },
   "outputs": [],
   "source": [
    "df1.drop(high_corr_cols,inplace=True,axis=1)  # axis=1 indicates columns\n",
    "df1.columns"
   ]
  },
  {
   "cell_type": "code",
   "execution_count": null,
   "id": "2b4d069f-dd55-426b-9b08-ef5f81e267c7",
   "metadata": {
    "colab": {
     "base_uri": "https://localhost:8080/"
    },
    "executionInfo": {
     "elapsed": 6,
     "status": "ok",
     "timestamp": 1747026658064,
     "user": {
      "displayName": "Mithil Dabhi",
      "userId": "08616639297797004413"
     },
     "user_tz": -330
    },
    "id": "2b4d069f-dd55-426b-9b08-ef5f81e267c7",
    "outputId": "8b91093c-4e8b-4cc7-efb2-f04a57abbec6"
   },
   "outputs": [],
   "source": [
    "df1.shape"
   ]
  },
  {
   "cell_type": "code",
   "execution_count": null,
   "id": "95b18fd7-3b94-4b6d-978b-7ce4f398afe3",
   "metadata": {
    "colab": {
     "base_uri": "https://localhost:8080/",
     "height": 443
    },
    "executionInfo": {
     "elapsed": 551,
     "status": "ok",
     "timestamp": 1747026659448,
     "user": {
      "displayName": "Mithil Dabhi",
      "userId": "08616639297797004413"
     },
     "user_tz": -330
    },
    "id": "95b18fd7-3b94-4b6d-978b-7ce4f398afe3",
    "outputId": "8c35746b-9df4-44a7-c024-0850e48bc5b6"
   },
   "outputs": [],
   "source": [
    "from sklearn.preprocessing import LabelEncoder\n",
    "lb = LabelEncoder()\n",
    "df_encoded = df1.apply(lb.fit_transform)\n",
    "df_encoded"
   ]
  },
  {
   "cell_type": "code",
   "execution_count": null,
   "id": "5c82c1f9-78ee-47cb-8eae-b1410807d37a",
   "metadata": {
    "colab": {
     "base_uri": "https://localhost:8080/",
     "height": 178
    },
    "executionInfo": {
     "elapsed": 4,
     "status": "ok",
     "timestamp": 1747026661247,
     "user": {
      "displayName": "Mithil Dabhi",
      "userId": "08616639297797004413"
     },
     "user_tz": -330
    },
    "id": "5c82c1f9-78ee-47cb-8eae-b1410807d37a",
    "outputId": "6b76b0cc-25c8-4b99-fbe6-a44f197989b2"
   },
   "outputs": [],
   "source": [
    "df_encoded['deposit'].value_counts()"
   ]
  },
  {
   "cell_type": "code",
   "execution_count": null,
   "id": "844f6b9c-f8f5-4165-be22-e82aace7bc74",
   "metadata": {
    "colab": {
     "base_uri": "https://localhost:8080/"
    },
    "executionInfo": {
     "elapsed": 5,
     "status": "ok",
     "timestamp": 1747026662858,
     "user": {
      "displayName": "Mithil Dabhi",
      "userId": "08616639297797004413"
     },
     "user_tz": -330
    },
    "id": "844f6b9c-f8f5-4165-be22-e82aace7bc74",
    "outputId": "06dfa78b-a670-409d-b326-f035263456ef"
   },
   "outputs": [],
   "source": [
    "x = df_encoded.drop('deposit',axis=1)  # independent variable\n",
    "y = df_encoded['deposit']              # dependent variable\n",
    "print(x.shape)\n",
    "print(y.shape)\n",
    "print(type(x))\n",
    "print(type(y))"
   ]
  },
  {
   "cell_type": "code",
   "execution_count": null,
   "id": "d2e9f1e8-4a90-4fdc-a304-ecdd2be170cb",
   "metadata": {
    "executionInfo": {
     "elapsed": 160,
     "status": "ok",
     "timestamp": 1747026664642,
     "user": {
      "displayName": "Mithil Dabhi",
      "userId": "08616639297797004413"
     },
     "user_tz": -330
    },
    "id": "d2e9f1e8-4a90-4fdc-a304-ecdd2be170cb"
   },
   "outputs": [],
   "source": [
    "from sklearn.model_selection import train_test_split"
   ]
  },
  {
   "cell_type": "code",
   "execution_count": null,
   "id": "33a38bb1-663b-4c82-8737-75113f50eecb",
   "metadata": {
    "colab": {
     "base_uri": "https://localhost:8080/"
    },
    "executionInfo": {
     "elapsed": 20,
     "status": "ok",
     "timestamp": 1747026665457,
     "user": {
      "displayName": "Mithil Dabhi",
      "userId": "08616639297797004413"
     },
     "user_tz": -330
    },
    "id": "33a38bb1-663b-4c82-8737-75113f50eecb",
    "outputId": "2317fc2c-2e36-459e-c09e-6b5810cbe1dc"
   },
   "outputs": [],
   "source": [
    "x_train,x_test,y_train,y_test = train_test_split(x,y,test_size=0.25,random_state=1)\n",
    "print(x_train.shape)\n",
    "print(x_test.shape)\n",
    "print(y_train.shape)\n",
    "print(y_test.shape)"
   ]
  },
  {
   "cell_type": "code",
   "execution_count": null,
   "id": "cb64f8e8-dc68-46d5-8a97-d777fe1110c1",
   "metadata": {
    "executionInfo": {
     "elapsed": 13,
     "status": "ok",
     "timestamp": 1747026666908,
     "user": {
      "displayName": "Mithil Dabhi",
      "userId": "08616639297797004413"
     },
     "user_tz": -330
    },
    "id": "cb64f8e8-dc68-46d5-8a97-d777fe1110c1"
   },
   "outputs": [],
   "source": [
    "\n",
    "from sklearn.metrics import confusion_matrix,classification_report,accuracy_score\n",
    "\n",
    "def eval_model(y_test,y_pred):\n",
    "    acc = accuracy_score(y_test,y_pred)\n",
    "    print('Accuracy_Score',acc)\n",
    "    cm = confusion_matrix(y_test,y_pred)\n",
    "    print('Confusion Matrix\\n',cm)\n",
    "    print('Classification Report\\n',classification_report(y_test,y_pred))\n",
    "\n",
    "def mscore(model):\n",
    "    train_score = model.score(x_train,y_train)\n",
    "    test_score = model.score(x_test,y_test)\n",
    "    print('Training Score',train_score)\n",
    "    print('Testing Score',test_score)"
   ]
  },
  {
   "cell_type": "code",
   "execution_count": null,
   "id": "2beae7d1-02d2-40e3-8715-9cdfd8f281a1",
   "metadata": {
    "colab": {
     "base_uri": "https://localhost:8080/",
     "height": 80
    },
    "executionInfo": {
     "elapsed": 632,
     "status": "ok",
     "timestamp": 1747026668916,
     "user": {
      "displayName": "Mithil Dabhi",
      "userId": "08616639297797004413"
     },
     "user_tz": -330
    },
    "id": "2beae7d1-02d2-40e3-8715-9cdfd8f281a1",
    "outputId": "3aa4739d-5103-4ac0-d857-bbf76b1294f3"
   },
   "outputs": [],
   "source": [
    "from sklearn.tree import DecisionTreeClassifier\n",
    "\n",
    "dt = DecisionTreeClassifier(criterion='gini',max_depth=5,min_samples_split=10)\n",
    "dt.fit(x_train,y_train)"
   ]
  },
  {
   "cell_type": "code",
   "execution_count": null,
   "id": "03b1fcbf-a83e-49da-81eb-be62dc356ba9",
   "metadata": {
    "colab": {
     "base_uri": "https://localhost:8080/"
    },
    "executionInfo": {
     "elapsed": 6,
     "status": "ok",
     "timestamp": 1747026669837,
     "user": {
      "displayName": "Mithil Dabhi",
      "userId": "08616639297797004413"
     },
     "user_tz": -330
    },
    "id": "03b1fcbf-a83e-49da-81eb-be62dc356ba9",
    "outputId": "6c25a57f-8b4c-45b5-c896-546584f03f4f"
   },
   "outputs": [],
   "source": [
    "mscore(dt)"
   ]
  },
  {
   "cell_type": "code",
   "execution_count": null,
   "id": "ab33cc7e-673e-4d21-8de4-6505be7890b0",
   "metadata": {
    "colab": {
     "base_uri": "https://localhost:8080/"
    },
    "executionInfo": {
     "elapsed": 14,
     "status": "ok",
     "timestamp": 1747026670722,
     "user": {
      "displayName": "Mithil Dabhi",
      "userId": "08616639297797004413"
     },
     "user_tz": -330
    },
    "id": "ab33cc7e-673e-4d21-8de4-6505be7890b0",
    "outputId": "7bbd9c37-9e44-470c-8921-35e6c3fb1dda"
   },
   "outputs": [],
   "source": [
    "ypred_dt = dt.predict(x_test)\n",
    "print(ypred_dt)"
   ]
  },
  {
   "cell_type": "code",
   "execution_count": null,
   "id": "613143ed-b60c-4029-b3cc-2466f1e413ae",
   "metadata": {
    "colab": {
     "base_uri": "https://localhost:8080/"
    },
    "executionInfo": {
     "elapsed": 7,
     "status": "ok",
     "timestamp": 1747026671686,
     "user": {
      "displayName": "Mithil Dabhi",
      "userId": "08616639297797004413"
     },
     "user_tz": -330
    },
    "id": "613143ed-b60c-4029-b3cc-2466f1e413ae",
    "outputId": "eb68a806-1a18-489d-cb1b-16ea16da5d3d"
   },
   "outputs": [],
   "source": [
    "eval_model(y_test,ypred_dt)"
   ]
  },
  {
   "cell_type": "code",
   "execution_count": null,
   "id": "654a2d8f-fced-498f-ba5b-e648b77a7d4d",
   "metadata": {
    "executionInfo": {
     "elapsed": 2,
     "status": "ok",
     "timestamp": 1747026672912,
     "user": {
      "displayName": "Mithil Dabhi",
      "userId": "08616639297797004413"
     },
     "user_tz": -330
    },
    "id": "654a2d8f-fced-498f-ba5b-e648b77a7d4d"
   },
   "outputs": [],
   "source": [
    "from sklearn.tree import plot_tree"
   ]
  },
  {
   "cell_type": "code",
   "execution_count": null,
   "id": "68b2bdbb-5112-4894-b78e-0ff3435235ad",
   "metadata": {
    "colab": {
     "base_uri": "https://localhost:8080/"
    },
    "executionInfo": {
     "elapsed": 6,
     "status": "ok",
     "timestamp": 1747026673926,
     "user": {
      "displayName": "Mithil Dabhi",
      "userId": "08616639297797004413"
     },
     "user_tz": -330
    },
    "id": "68b2bdbb-5112-4894-b78e-0ff3435235ad",
    "outputId": "74a95aec-3d4c-4c1d-b679-d6c529353f96"
   },
   "outputs": [],
   "source": [
    "cn = ['no','yes']\n",
    "fn = x_train.columns\n",
    "print(fn)\n",
    "print(cn)"
   ]
  },
  {
   "cell_type": "code",
   "execution_count": null,
   "id": "ff9e2963-4a4c-4d06-80b9-89ba9469ca4c",
   "metadata": {
    "colab": {
     "base_uri": "https://localhost:8080/",
     "height": 392
    },
    "executionInfo": {
     "elapsed": 1648,
     "status": "ok",
     "timestamp": 1747026676482,
     "user": {
      "displayName": "Mithil Dabhi",
      "userId": "08616639297797004413"
     },
     "user_tz": -330
    },
    "id": "ff9e2963-4a4c-4d06-80b9-89ba9469ca4c",
    "outputId": "83a07225-4bf9-4022-84ec-4b661071f150"
   },
   "outputs": [],
   "source": [
    "plt.figure(figsize=(30,10))\n",
    "plot_tree(dt,class_names=cn,filled=True)\n",
    "plt.show()"
   ]
  },
  {
   "cell_type": "code",
   "execution_count": null,
   "id": "bf2fe7ad-974c-4f0a-a63d-d668119ecdeb",
   "metadata": {
    "colab": {
     "base_uri": "https://localhost:8080/",
     "height": 80
    },
    "executionInfo": {
     "elapsed": 28,
     "status": "ok",
     "timestamp": 1747026677626,
     "user": {
      "displayName": "Mithil Dabhi",
      "userId": "08616639297797004413"
     },
     "user_tz": -330
    },
    "id": "bf2fe7ad-974c-4f0a-a63d-d668119ecdeb",
    "outputId": "c29064f3-c671-49cd-8b57-432145ece429"
   },
   "outputs": [],
   "source": [
    "dt1 = DecisionTreeClassifier(criterion='entropy',max_depth=4,min_samples_split=15)\n",
    "dt1.fit(x_train,y_train)"
   ]
  },
  {
   "cell_type": "code",
   "execution_count": null,
   "id": "3e0cce30-3df6-4ecf-99d8-42cfbb069f6f",
   "metadata": {
    "colab": {
     "base_uri": "https://localhost:8080/"
    },
    "executionInfo": {
     "elapsed": 16,
     "status": "ok",
     "timestamp": 1747026682580,
     "user": {
      "displayName": "Mithil Dabhi",
      "userId": "08616639297797004413"
     },
     "user_tz": -330
    },
    "id": "3e0cce30-3df6-4ecf-99d8-42cfbb069f6f",
    "outputId": "692f882d-ffef-4757-d52b-fadca938dd0a"
   },
   "outputs": [],
   "source": [
    "mscore(dt1)"
   ]
  },
  {
   "cell_type": "code",
   "execution_count": null,
   "id": "f25e04b9-cfb1-4584-a410-6fc038b90137",
   "metadata": {
    "executionInfo": {
     "elapsed": 2,
     "status": "ok",
     "timestamp": 1747026684960,
     "user": {
      "displayName": "Mithil Dabhi",
      "userId": "08616639297797004413"
     },
     "user_tz": -330
    },
    "id": "f25e04b9-cfb1-4584-a410-6fc038b90137"
   },
   "outputs": [],
   "source": [
    "ypred_dt1 = dt1.predict(x_test)"
   ]
  },
  {
   "cell_type": "code",
   "execution_count": null,
   "id": "c1969c21-faee-4dfc-9e33-329355a7eeb8",
   "metadata": {
    "colab": {
     "base_uri": "https://localhost:8080/"
    },
    "executionInfo": {
     "elapsed": 6,
     "status": "ok",
     "timestamp": 1747026685845,
     "user": {
      "displayName": "Mithil Dabhi",
      "userId": "08616639297797004413"
     },
     "user_tz": -330
    },
    "id": "c1969c21-faee-4dfc-9e33-329355a7eeb8",
    "outputId": "9817448d-57c8-4e16-8f1c-6b3b7d763610"
   },
   "outputs": [],
   "source": [
    "\n",
    "eval_model(y_test,ypred_dt1)\n"
   ]
  },
  {
   "cell_type": "code",
   "execution_count": null,
   "id": "bb29d976-7eaa-4aed-a649-606e30308b5e",
   "metadata": {
    "colab": {
     "base_uri": "https://localhost:8080/",
     "height": 573
    },
    "executionInfo": {
     "elapsed": 1387,
     "status": "ok",
     "timestamp": 1747026689067,
     "user": {
      "displayName": "Mithil Dabhi",
      "userId": "08616639297797004413"
     },
     "user_tz": -330
    },
    "id": "bb29d976-7eaa-4aed-a649-606e30308b5e",
    "outputId": "b5baa0a8-e7b7-40dc-d208-e71431aa6663"
   },
   "outputs": [],
   "source": [
    "plt.figure(figsize=(40,20))\n",
    "plot_tree(dt1,class_names=cn,filled=True)\n",
    "plt.show()"
   ]
  },
  {
   "cell_type": "code",
   "execution_count": null,
   "id": "d1208439-f27d-4557-83d9-db69ad2fdd98",
   "metadata": {
    "executionInfo": {
     "elapsed": 9,
     "status": "ok",
     "timestamp": 1747026690259,
     "user": {
      "displayName": "Mithil Dabhi",
      "userId": "08616639297797004413"
     },
     "user_tz": -330
    },
    "id": "d1208439-f27d-4557-83d9-db69ad2fdd98"
   },
   "outputs": [],
   "source": []
  }
 ],
 "metadata": {
  "colab": {
   "provenance": []
  },
  "kernelspec": {
   "display_name": "Python 3",
   "language": "python",
   "name": "python3"
  },
  "language_info": {
   "codemirror_mode": {
    "name": "ipython",
    "version": 3
   },
   "file_extension": ".py",
   "mimetype": "text/x-python",
   "name": "python",
   "nbconvert_exporter": "python",
   "pygments_lexer": "ipython3",
   "version": "3.12.2"
  }
 },
 "nbformat": 4,
 "nbformat_minor": 5
}
